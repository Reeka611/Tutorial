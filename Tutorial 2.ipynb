{
 "cells": [
  {
   "cell_type": "markdown",
   "id": "bdc96314",
   "metadata": {},
   "source": [
    "### Python Data Structures and Boolean\n",
    "\n",
    "#### - Boolean\n",
    "#### - Boolean and Logical Operators\n",
    "#### - Lists\n",
    "#### - Comparison operators\n",
    "#### - Dictionaries\n",
    "#### - Tuples\n",
    "#### - Sets"
   ]
  },
  {
   "cell_type": "markdown",
   "id": "bc90ee1a",
   "metadata": {},
   "source": [
    "## Boolean values are the two constant objects False and True\n",
    "## The built-in function bool() can be used to cast any value to a Boolean"
   ]
  },
  {
   "cell_type": "code",
   "execution_count": 1,
   "id": "b93c7bae",
   "metadata": {},
   "outputs": [
    {
     "data": {
      "text/plain": [
       "bool"
      ]
     },
     "execution_count": 1,
     "metadata": {},
     "output_type": "execute_result"
    }
   ],
   "source": [
    "type(True)"
   ]
  },
  {
   "cell_type": "code",
   "execution_count": 2,
   "id": "3c7741d5",
   "metadata": {},
   "outputs": [
    {
     "data": {
      "text/plain": [
       "bool"
      ]
     },
     "execution_count": 2,
     "metadata": {},
     "output_type": "execute_result"
    }
   ],
   "source": [
    "type(False)"
   ]
  },
  {
   "cell_type": "markdown",
   "id": "fa86aa04",
   "metadata": {},
   "source": [
    "## In Strings there are lot of in-built functions"
   ]
  },
  {
   "cell_type": "code",
   "execution_count": 20,
   "id": "578528f2",
   "metadata": {},
   "outputs": [],
   "source": [
    "my_str=\"Reeka\""
   ]
  },
  {
   "cell_type": "code",
   "execution_count": null,
   "id": "4fa69ee7",
   "metadata": {},
   "outputs": [],
   "source": [
    "my_str.                 ## press tab you will get lot of in-built functions"
   ]
  },
  {
   "cell_type": "code",
   "execution_count": 21,
   "id": "00ee6b8c",
   "metadata": {},
   "outputs": [
    {
     "data": {
      "text/plain": [
       "True"
      ]
     },
     "execution_count": 21,
     "metadata": {},
     "output_type": "execute_result"
    }
   ],
   "source": [
    "my_str.istitle()"
   ]
  },
  {
   "cell_type": "markdown",
   "id": "c6a3f5b3",
   "metadata": {},
   "source": [
    "## Boolean and Logical Operators"
   ]
  },
  {
   "cell_type": "code",
   "execution_count": 22,
   "id": "0eb45711",
   "metadata": {},
   "outputs": [
    {
     "data": {
      "text/plain": [
       "True"
      ]
     },
     "execution_count": 22,
     "metadata": {},
     "output_type": "execute_result"
    }
   ],
   "source": [
    "True and True"
   ]
  },
  {
   "cell_type": "code",
   "execution_count": 23,
   "id": "c2b8c3ef",
   "metadata": {},
   "outputs": [
    {
     "data": {
      "text/plain": [
       "False"
      ]
     },
     "execution_count": 23,
     "metadata": {},
     "output_type": "execute_result"
    }
   ],
   "source": [
    "True and False"
   ]
  },
  {
   "cell_type": "code",
   "execution_count": 24,
   "id": "0e106b91",
   "metadata": {},
   "outputs": [
    {
     "data": {
      "text/plain": [
       "True"
      ]
     },
     "execution_count": 24,
     "metadata": {},
     "output_type": "execute_result"
    }
   ],
   "source": [
    "True or False"
   ]
  },
  {
   "cell_type": "code",
   "execution_count": 25,
   "id": "a43d2049",
   "metadata": {},
   "outputs": [],
   "source": [
    "my_str1=\"Hello\"\n",
    "my_str2=\"Reeka\""
   ]
  },
  {
   "cell_type": "code",
   "execution_count": 26,
   "id": "a496e55f",
   "metadata": {},
   "outputs": [
    {
     "data": {
      "text/plain": [
       "False"
      ]
     },
     "execution_count": 26,
     "metadata": {},
     "output_type": "execute_result"
    }
   ],
   "source": [
    "my_str1.isalpha() and my_str2.isdigit()"
   ]
  },
  {
   "cell_type": "code",
   "execution_count": 27,
   "id": "402a7ab5",
   "metadata": {},
   "outputs": [
    {
     "data": {
      "text/plain": [
       "True"
      ]
     },
     "execution_count": 27,
     "metadata": {},
     "output_type": "execute_result"
    }
   ],
   "source": [
    "my_str1.isalpha() or my_str2.isdigit()"
   ]
  },
  {
   "cell_type": "markdown",
   "id": "d5667283",
   "metadata": {},
   "source": [
    "## List is a Data Structure. The values inside the list is called items and lists are defined by having values between the square bracket[]."
   ]
  },
  {
   "cell_type": "code",
   "execution_count": 28,
   "id": "bb541e54",
   "metadata": {},
   "outputs": [
    {
     "data": {
      "text/plain": [
       "list"
      ]
     },
     "execution_count": 28,
     "metadata": {},
     "output_type": "execute_result"
    }
   ],
   "source": [
    "type([])"
   ]
  },
  {
   "cell_type": "code",
   "execution_count": 29,
   "id": "b8f11c52",
   "metadata": {},
   "outputs": [],
   "source": [
    "L=[\"Mathematics\",\"Science\",100,200] ## separated by commas and can be different Data Type"
   ]
  },
  {
   "cell_type": "code",
   "execution_count": 30,
   "id": "00d6f8d3",
   "metadata": {},
   "outputs": [
    {
     "data": {
      "text/plain": [
       "list"
      ]
     },
     "execution_count": 30,
     "metadata": {},
     "output_type": "execute_result"
    }
   ],
   "source": [
    "type(L)"
   ]
  },
  {
   "cell_type": "markdown",
   "id": "4da0698b",
   "metadata": {},
   "source": [
    "## append is used to add elements in the list"
   ]
  },
  {
   "cell_type": "code",
   "execution_count": 31,
   "id": "06ef585e",
   "metadata": {},
   "outputs": [],
   "source": [
    "L.append(\"Reeka\")"
   ]
  },
  {
   "cell_type": "code",
   "execution_count": 32,
   "id": "8d8ea8dd",
   "metadata": {},
   "outputs": [
    {
     "data": {
      "text/plain": [
       "['Mathematics', 'Science', 100, 200, 'Reeka']"
      ]
     },
     "execution_count": 32,
     "metadata": {},
     "output_type": "execute_result"
    }
   ],
   "source": [
    "L"
   ]
  },
  {
   "cell_type": "markdown",
   "id": "c5508265",
   "metadata": {},
   "source": [
    "## Indexing"
   ]
  },
  {
   "cell_type": "code",
   "execution_count": 34,
   "id": "9ab44196",
   "metadata": {},
   "outputs": [
    {
     "data": {
      "text/plain": [
       "['Science', 100, 200]"
      ]
     },
     "execution_count": 34,
     "metadata": {},
     "output_type": "execute_result"
    }
   ],
   "source": [
    "L[1:4]"
   ]
  },
  {
   "cell_type": "code",
   "execution_count": 35,
   "id": "9b2a9a0d",
   "metadata": {},
   "outputs": [
    {
     "data": {
      "text/plain": [
       "['Mathematics', 'Science', 100, 200, 'Reeka']"
      ]
     },
     "execution_count": 35,
     "metadata": {},
     "output_type": "execute_result"
    }
   ],
   "source": [
    "L[0:]"
   ]
  },
  {
   "cell_type": "code",
   "execution_count": 37,
   "id": "7976ef14",
   "metadata": {},
   "outputs": [],
   "source": [
    "## Insert items in the list\n",
    "\n",
    "L.insert(2,500)"
   ]
  },
  {
   "cell_type": "code",
   "execution_count": 38,
   "id": "b2032da0",
   "metadata": {},
   "outputs": [
    {
     "data": {
      "text/plain": [
       "['Mathematics', 'Science', 500, 100, 200, 'Reeka']"
      ]
     },
     "execution_count": 38,
     "metadata": {},
     "output_type": "execute_result"
    }
   ],
   "source": [
    "L"
   ]
  },
  {
   "cell_type": "code",
   "execution_count": 39,
   "id": "05ed5c37",
   "metadata": {},
   "outputs": [
    {
     "data": {
      "text/plain": [
       "['Mathematics', 500, 100, 200, 'Reeka']"
      ]
     },
     "execution_count": 39,
     "metadata": {},
     "output_type": "execute_result"
    }
   ],
   "source": [
    "## pop function\n",
    "\n",
    "L.pop(1)\n",
    "L"
   ]
  },
  {
   "cell_type": "code",
   "execution_count": null,
   "id": "ad939b8a",
   "metadata": {},
   "outputs": [],
   "source": []
  }
 ],
 "metadata": {
  "kernelspec": {
   "display_name": "Python 3 (ipykernel)",
   "language": "python",
   "name": "python3"
  },
  "language_info": {
   "codemirror_mode": {
    "name": "ipython",
    "version": 3
   },
   "file_extension": ".py",
   "mimetype": "text/x-python",
   "name": "python",
   "nbconvert_exporter": "python",
   "pygments_lexer": "ipython3",
   "version": "3.10.9"
  }
 },
 "nbformat": 4,
 "nbformat_minor": 5
}

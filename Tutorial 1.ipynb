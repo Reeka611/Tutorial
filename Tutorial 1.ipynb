{
 "cells": [
  {
   "cell_type": "markdown",
   "id": "58374fc1",
   "metadata": {},
   "source": [
    "# Basics of Python\n",
    "\n",
    "### *Various Datatypes in Python\n",
    "### *Variables\n",
    "### *Variables Assignment\n",
    "### *Print Formating"
   ]
  },
  {
   "cell_type": "markdown",
   "id": "728cd04c",
   "metadata": {},
   "source": [
    "## *What is Cell in Jupyter Notebook?"
   ]
  },
  {
   "cell_type": "markdown",
   "id": "a949cb47",
   "metadata": {},
   "source": [
    "## * How to create cells above and below? (Insert or Esc+A)"
   ]
  },
  {
   "cell_type": "markdown",
   "id": "e3ac9584",
   "metadata": {},
   "source": [
    "## * how to restart the jupyter notebook when it hangs (kernel+restart)"
   ]
  },
  {
   "cell_type": "markdown",
   "id": "b8d8a4d3",
   "metadata": {},
   "source": [
    "## *How to write headings in the Cell? (Select Markdown and ## depending on sizes)"
   ]
  },
  {
   "cell_type": "markdown",
   "id": "428be3fb",
   "metadata": {},
   "source": [
    "## *What is Datatype?"
   ]
  },
  {
   "cell_type": "markdown",
   "id": "9429ec10",
   "metadata": {},
   "source": [
    "##  Data types (String, Integers , Float, Boolean) - inbuilt function"
   ]
  },
  {
   "cell_type": "code",
   "execution_count": 9,
   "id": "fd76a809",
   "metadata": {},
   "outputs": [
    {
     "data": {
      "text/plain": [
       "12"
      ]
     },
     "execution_count": 9,
     "metadata": {},
     "output_type": "execute_result"
    }
   ],
   "source": [
    "10+2"
   ]
  },
  {
   "cell_type": "code",
   "execution_count": 10,
   "id": "d62cb81a",
   "metadata": {},
   "outputs": [
    {
     "data": {
      "text/plain": [
       "35"
      ]
     },
     "execution_count": 10,
     "metadata": {},
     "output_type": "execute_result"
    }
   ],
   "source": [
    "5*7"
   ]
  },
  {
   "cell_type": "code",
   "execution_count": 12,
   "id": "b8fa76d7",
   "metadata": {},
   "outputs": [
    {
     "data": {
      "text/plain": [
       "72"
      ]
     },
     "execution_count": 12,
     "metadata": {},
     "output_type": "execute_result"
    }
   ],
   "source": [
    "78-6"
   ]
  },
  {
   "cell_type": "code",
   "execution_count": 13,
   "id": "2be74194",
   "metadata": {},
   "outputs": [
    {
     "data": {
      "text/plain": [
       "25"
      ]
     },
     "execution_count": 13,
     "metadata": {},
     "output_type": "execute_result"
    }
   ],
   "source": [
    "5**2"
   ]
  },
  {
   "cell_type": "markdown",
   "id": "444cc866",
   "metadata": {},
   "source": [
    "## To find out the data types"
   ]
  },
  {
   "cell_type": "code",
   "execution_count": 1,
   "id": "8c2ee06b",
   "metadata": {},
   "outputs": [
    {
     "data": {
      "text/plain": [
       "int"
      ]
     },
     "execution_count": 1,
     "metadata": {},
     "output_type": "execute_result"
    }
   ],
   "source": [
    "type(5)"
   ]
  },
  {
   "cell_type": "code",
   "execution_count": 2,
   "id": "8c42a2be",
   "metadata": {},
   "outputs": [
    {
     "data": {
      "text/plain": [
       "str"
      ]
     },
     "execution_count": 2,
     "metadata": {},
     "output_type": "execute_result"
    }
   ],
   "source": [
    "type(\"Hello\")"
   ]
  },
  {
   "cell_type": "code",
   "execution_count": 3,
   "id": "bcfc84b3",
   "metadata": {},
   "outputs": [
    {
     "data": {
      "text/plain": [
       "float"
      ]
     },
     "execution_count": 3,
     "metadata": {},
     "output_type": "execute_result"
    }
   ],
   "source": [
    "type(10.2)"
   ]
  },
  {
   "cell_type": "code",
   "execution_count": 4,
   "id": "24656ea4",
   "metadata": {},
   "outputs": [
    {
     "data": {
      "text/plain": [
       "bool"
      ]
     },
     "execution_count": 4,
     "metadata": {},
     "output_type": "execute_result"
    }
   ],
   "source": [
    "type(True)"
   ]
  },
  {
   "cell_type": "code",
   "execution_count": 5,
   "id": "a69975bb",
   "metadata": {},
   "outputs": [
    {
     "data": {
      "text/plain": [
       "bool"
      ]
     },
     "execution_count": 5,
     "metadata": {},
     "output_type": "execute_result"
    }
   ],
   "source": [
    "type(False)"
   ]
  },
  {
   "cell_type": "markdown",
   "id": "eed03f4c",
   "metadata": {},
   "source": [
    "## String"
   ]
  },
  {
   "cell_type": "code",
   "execution_count": 7,
   "id": "d24a4433",
   "metadata": {},
   "outputs": [
    {
     "data": {
      "text/plain": [
       "'Reeka'"
      ]
     },
     "execution_count": 7,
     "metadata": {},
     "output_type": "execute_result"
    }
   ],
   "source": [
    "\"Reeka\""
   ]
  },
  {
   "cell_type": "code",
   "execution_count": 8,
   "id": "1420cadf",
   "metadata": {},
   "outputs": [
    {
     "data": {
      "text/plain": [
       "'Reeka'"
      ]
     },
     "execution_count": 8,
     "metadata": {},
     "output_type": "execute_result"
    }
   ],
   "source": [
    "'Reeka'"
   ]
  },
  {
   "cell_type": "code",
   "execution_count": 9,
   "id": "a5122d30",
   "metadata": {},
   "outputs": [
    {
     "data": {
      "text/plain": [
       "str"
      ]
     },
     "execution_count": 9,
     "metadata": {},
     "output_type": "execute_result"
    }
   ],
   "source": [
    "type(\"Reeka\")"
   ]
  },
  {
   "cell_type": "code",
   "execution_count": 10,
   "id": "b17a9dff",
   "metadata": {},
   "outputs": [
    {
     "data": {
      "text/plain": [
       "str"
      ]
     },
     "execution_count": 10,
     "metadata": {},
     "output_type": "execute_result"
    }
   ],
   "source": [
    "type('Reeka')"
   ]
  },
  {
   "cell_type": "markdown",
   "id": "daf7bb2a",
   "metadata": {},
   "source": [
    "## Variables Assignment"
   ]
  },
  {
   "cell_type": "code",
   "execution_count": 11,
   "id": "1476624b",
   "metadata": {},
   "outputs": [],
   "source": [
    "# Syntax\n",
    "# var_name=values\n",
    "\n",
    "x=20"
   ]
  },
  {
   "cell_type": "code",
   "execution_count": 12,
   "id": "1146b262",
   "metadata": {},
   "outputs": [
    {
     "data": {
      "text/plain": [
       "int"
      ]
     },
     "execution_count": 12,
     "metadata": {},
     "output_type": "execute_result"
    }
   ],
   "source": [
    "type(x)"
   ]
  },
  {
   "cell_type": "code",
   "execution_count": 13,
   "id": "d6a83c88",
   "metadata": {},
   "outputs": [],
   "source": [
    "x=\"Reeka\""
   ]
  },
  {
   "cell_type": "code",
   "execution_count": 14,
   "id": "59135e4f",
   "metadata": {},
   "outputs": [
    {
     "data": {
      "text/plain": [
       "str"
      ]
     },
     "execution_count": 14,
     "metadata": {},
     "output_type": "execute_result"
    }
   ],
   "source": [
    "type(x)"
   ]
  },
  {
   "cell_type": "code",
   "execution_count": 15,
   "id": "e100d838",
   "metadata": {},
   "outputs": [],
   "source": [
    "# Mathematical Operation with Variable Assignment\n",
    "# print is to display in the output console\n",
    "\n",
    "x=10\n",
    "y=20"
   ]
  },
  {
   "cell_type": "code",
   "execution_count": 18,
   "id": "ed1ea992",
   "metadata": {},
   "outputs": [
    {
     "name": "stdout",
     "output_type": "stream",
     "text": [
      "200\n",
      "0.5\n",
      "10\n",
      "200.5\n"
     ]
    }
   ],
   "source": [
    "print(x*y)\n",
    "print(x/y)\n",
    "print(x%y)\n",
    "print((x*y)+(x/y)) ## BODMAS"
   ]
  },
  {
   "cell_type": "markdown",
   "id": "2fa676f6",
   "metadata": {},
   "source": [
    "## Various ways of Printing"
   ]
  },
  {
   "cell_type": "code",
   "execution_count": 23,
   "id": "2427203d",
   "metadata": {},
   "outputs": [],
   "source": [
    "first_name='Reeka'\n",
    "last_name='Hazarika'"
   ]
  },
  {
   "cell_type": "code",
   "execution_count": 24,
   "id": "3d7be77d",
   "metadata": {},
   "outputs": [
    {
     "name": "stdout",
     "output_type": "stream",
     "text": [
      "My first name is Reeka and my last name is Hazarika\n"
     ]
    }
   ],
   "source": [
    "print('My first name is {} and my last name is {}'.format(first_name,last_name)) ## check the order in the format"
   ]
  },
  {
   "cell_type": "code",
   "execution_count": 25,
   "id": "17ce722e",
   "metadata": {},
   "outputs": [
    {
     "name": "stdout",
     "output_type": "stream",
     "text": [
      "My first name is Hazarika and my last name is Reeka\n"
     ]
    }
   ],
   "source": [
    "print('My first name is {} and my last name is {}'.format(last_name,first_name))"
   ]
  },
  {
   "cell_type": "code",
   "execution_count": 26,
   "id": "1576e9c7",
   "metadata": {},
   "outputs": [
    {
     "name": "stdout",
     "output_type": "stream",
     "text": [
      "My first name is Reeka and my last name is Hazarika\n"
     ]
    }
   ],
   "source": [
    "print('My first name is {First} and my last name is {Last}'.format(First=first_name,Last=last_name))"
   ]
  },
  {
   "cell_type": "code",
   "execution_count": 27,
   "id": "c580e710",
   "metadata": {},
   "outputs": [
    {
     "data": {
      "text/plain": [
       "5"
      ]
     },
     "execution_count": 27,
     "metadata": {},
     "output_type": "execute_result"
    }
   ],
   "source": [
    "# length of Characters\n",
    "\n",
    "len('Reeka')"
   ]
  },
  {
   "cell_type": "code",
   "execution_count": null,
   "id": "ea715201",
   "metadata": {},
   "outputs": [],
   "source": []
  }
 ],
 "metadata": {
  "kernelspec": {
   "display_name": "Python 3 (ipykernel)",
   "language": "python",
   "name": "python3"
  },
  "language_info": {
   "codemirror_mode": {
    "name": "ipython",
    "version": 3
   },
   "file_extension": ".py",
   "mimetype": "text/x-python",
   "name": "python",
   "nbconvert_exporter": "python",
   "pygments_lexer": "ipython3",
   "version": "3.10.9"
  }
 },
 "nbformat": 4,
 "nbformat_minor": 5
}

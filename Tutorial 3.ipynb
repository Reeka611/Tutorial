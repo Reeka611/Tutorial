{
 "cells": [
  {
   "cell_type": "markdown",
   "id": "deadb5ab",
   "metadata": {},
   "source": [
    "## Sets"
   ]
  },
  {
   "cell_type": "code",
   "execution_count": 5,
   "id": "5b917005",
   "metadata": {},
   "outputs": [
    {
     "name": "stdout",
     "output_type": "stream",
     "text": [
      "{'Sharjah', 'Abu Dhabi', 'Dubai'}\n"
     ]
    }
   ],
   "source": [
    "## Sets has no duplicate element and set does not support Indexing\n",
    "\n",
    "set_places={\"Dubai\",\"Abu Dhabi\",\"Sharjah\",\"Dubai\"}\n",
    "print(set_places)"
   ]
  },
  {
   "cell_type": "code",
   "execution_count": 6,
   "id": "952581ff",
   "metadata": {},
   "outputs": [],
   "source": [
    "## Addition in set\n",
    "\n",
    "set_places.add(\"Al Ain\")"
   ]
  },
  {
   "cell_type": "code",
   "execution_count": 7,
   "id": "eef8d7a7",
   "metadata": {},
   "outputs": [
    {
     "data": {
      "text/plain": [
       "{'Abu Dhabi', 'Al Ain', 'Dubai', 'Sharjah'}"
      ]
     },
     "execution_count": 7,
     "metadata": {},
     "output_type": "execute_result"
    }
   ],
   "source": [
    "set_places"
   ]
  },
  {
   "cell_type": "code",
   "execution_count": 8,
   "id": "1bd06d24",
   "metadata": {},
   "outputs": [],
   "source": [
    "## Difference of sets\n",
    "\n",
    "set1={\"Dubai\",\"Abu Dhabi\",\"Sharjah\",\"Dubai\"}\n",
    "set2={'Abu Dhabi', 'Al Ain', 'Dubai', 'Sharjah'}"
   ]
  },
  {
   "cell_type": "code",
   "execution_count": 9,
   "id": "1829ff34",
   "metadata": {},
   "outputs": [
    {
     "data": {
      "text/plain": [
       "{'Al Ain'}"
      ]
     },
     "execution_count": 9,
     "metadata": {},
     "output_type": "execute_result"
    }
   ],
   "source": [
    "set2.difference(set1)"
   ]
  },
  {
   "cell_type": "code",
   "execution_count": 10,
   "id": "01716ddd",
   "metadata": {},
   "outputs": [
    {
     "data": {
      "text/plain": [
       "{'Abu Dhabi', 'Dubai', 'Sharjah'}"
      ]
     },
     "execution_count": 10,
     "metadata": {},
     "output_type": "execute_result"
    }
   ],
   "source": [
    "## Intersection of sets\n",
    "\n",
    "set2.intersection(set1)"
   ]
  },
  {
   "cell_type": "markdown",
   "id": "5599d99a",
   "metadata": {},
   "source": [
    "## Dictionary"
   ]
  },
  {
   "cell_type": "code",
   "execution_count": 14,
   "id": "7501719f",
   "metadata": {},
   "outputs": [],
   "source": [
    "##Dictionary uses same brackets as Sets but inside the brackets there are key values and not variables\n",
    "## in dictionary the indexing is done with key names\n",
    "\n",
    "dic={\"India\":\"Delhi\",\"UAE\":\"Abu Dhabi\",\"UK\":\"London\"}"
   ]
  },
  {
   "cell_type": "code",
   "execution_count": 15,
   "id": "42f6a5ec",
   "metadata": {},
   "outputs": [
    {
     "data": {
      "text/plain": [
       "'Abu Dhabi'"
      ]
     },
     "execution_count": 15,
     "metadata": {},
     "output_type": "execute_result"
    }
   ],
   "source": [
    "dic[\"UAE\"]"
   ]
  },
  {
   "cell_type": "code",
   "execution_count": 16,
   "id": "51ce90a3",
   "metadata": {},
   "outputs": [],
   "source": [
    "## Adding Items in Dictionary\n",
    "\n",
    "dic[\"Egypt\"]=\"Cairo\""
   ]
  },
  {
   "cell_type": "code",
   "execution_count": 17,
   "id": "9b7ec462",
   "metadata": {},
   "outputs": [
    {
     "data": {
      "text/plain": [
       "{'India': 'Delhi', 'UAE': 'Abu Dhabi', 'UK': 'London', 'Egypt': 'Cairo'}"
      ]
     },
     "execution_count": 17,
     "metadata": {},
     "output_type": "execute_result"
    }
   ],
   "source": [
    "dic"
   ]
  },
  {
   "cell_type": "code",
   "execution_count": 18,
   "id": "d37b65b2",
   "metadata": {},
   "outputs": [
    {
     "data": {
      "text/plain": [
       "{'India': 'Mumbai', 'UAE': 'Abu Dhabi', 'UK': 'London', 'Egypt': 'Cairo'}"
      ]
     },
     "execution_count": 18,
     "metadata": {},
     "output_type": "execute_result"
    }
   ],
   "source": [
    "## keys over-ridden/replaced\n",
    "\n",
    "dic[\"India\"]=\"Mumbai\"\n",
    "dic"
   ]
  },
  {
   "cell_type": "markdown",
   "id": "893586a6",
   "metadata": {},
   "source": [
    "## Tuple"
   ]
  },
  {
   "cell_type": "code",
   "execution_count": null,
   "id": "cfed3a81",
   "metadata": {},
   "outputs": [],
   "source": [
    "## In tuple the items cannot be replaced but the whole tuple can be replaced"
   ]
  },
  {
   "cell_type": "code",
   "execution_count": 19,
   "id": "1e580633",
   "metadata": {},
   "outputs": [],
   "source": [
    "my_tuple=(\"Dubai\",\"Abu Dhabi\",\"Sharjah\")"
   ]
  },
  {
   "cell_type": "code",
   "execution_count": 20,
   "id": "6450bb79",
   "metadata": {},
   "outputs": [
    {
     "ename": "TypeError",
     "evalue": "'tuple' object does not support item assignment",
     "output_type": "error",
     "traceback": [
      "\u001b[1;31m---------------------------------------------------------------------------\u001b[0m",
      "\u001b[1;31mTypeError\u001b[0m                                 Traceback (most recent call last)",
      "Cell \u001b[1;32mIn[20], line 1\u001b[0m\n\u001b[1;32m----> 1\u001b[0m my_tuple[\u001b[38;5;241m1\u001b[39m]\u001b[38;5;241m=\u001b[39m\u001b[38;5;124m\"\u001b[39m\u001b[38;5;124mAl Ain\u001b[39m\u001b[38;5;124m\"\u001b[39m\n",
      "\u001b[1;31mTypeError\u001b[0m: 'tuple' object does not support item assignment"
     ]
    }
   ],
   "source": [
    "my_tuple[1]=\"Al Ain\""
   ]
  },
  {
   "cell_type": "code",
   "execution_count": 21,
   "id": "efcdb69b",
   "metadata": {},
   "outputs": [],
   "source": [
    "my_tuple=(\"Al Ain\",\"Ras Al Kaimah\")"
   ]
  },
  {
   "cell_type": "code",
   "execution_count": 22,
   "id": "d01bbc70",
   "metadata": {},
   "outputs": [
    {
     "data": {
      "text/plain": [
       "('Al Ain', 'Ras Al Kaimah')"
      ]
     },
     "execution_count": 22,
     "metadata": {},
     "output_type": "execute_result"
    }
   ],
   "source": [
    "my_tuple"
   ]
  },
  {
   "cell_type": "code",
   "execution_count": null,
   "id": "aa5c5787",
   "metadata": {},
   "outputs": [],
   "source": []
  }
 ],
 "metadata": {
  "kernelspec": {
   "display_name": "Python 3 (ipykernel)",
   "language": "python",
   "name": "python3"
  },
  "language_info": {
   "codemirror_mode": {
    "name": "ipython",
    "version": 3
   },
   "file_extension": ".py",
   "mimetype": "text/x-python",
   "name": "python",
   "nbconvert_exporter": "python",
   "pygments_lexer": "ipython3",
   "version": "3.10.9"
  }
 },
 "nbformat": 4,
 "nbformat_minor": 5
}
